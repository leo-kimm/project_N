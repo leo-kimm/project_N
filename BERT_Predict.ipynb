{
 "cells": [
  {
   "cell_type": "code",
   "execution_count": 1,
   "id": "ec0de44c",
   "metadata": {
    "scrolled": true
   },
   "outputs": [],
   "source": [
    "# SKT Brain github 주소는 다음과 같습니다. https://github.com/SKTBrain/KoBERT\n",
    "\n",
    "# !pip install mxnet\n",
    "# !pip install gluonnlp pandas tqdm\n",
    "# !pip install sentencepiece\n",
    "# !pip install transformers==3 # 최신 버전으로 설치하면 \"Input: must be Tensor, not str\" 라는 에러 발생\n",
    "# !pip install torch\n",
    "\n",
    "# !pip install git+https://git@github.com/SKTBrain/KoBERT.git@master\n",
    "\n",
    "import torch\n",
    "from torch import nn\n",
    "import torch.nn.functional as F\n",
    "import torch.optim as optim\n",
    "from torch.utils.data import Dataset, DataLoader\n",
    "import gluonnlp as nlp\n",
    "import numpy as np\n",
    "from tqdm import tqdm, tqdm_notebook\n",
    "\n",
    "# kobert \n",
    "from kobert.utils import get_tokenizer\n",
    "from kobert.pytorch_kobert import get_pytorch_kobert_model\n",
    "\n",
    "# transformers\n",
    "from transformers import AdamW\n",
    "from transformers.optimization import get_cosine_schedule_with_warmup\n",
    "\n",
    "import pandas as pd"
   ]
  },
  {
   "cell_type": "code",
   "execution_count": 2,
   "id": "96dc11e2",
   "metadata": {},
   "outputs": [
    {
     "name": "stdout",
     "output_type": "stream",
     "text": [
      "using cached model\n",
      "using cached model\n",
      "Available devices  1\n",
      "Current cuda device  0\n",
      "Tesla P100-PCIE-16GB\n"
     ]
    }
   ],
   "source": [
    "# GPU 사용 시\n",
    "device = torch.device('cuda:0' if torch.cuda.is_available() else 'cpu')\n",
    "\n",
    "# Bert모델, Voca 불러오기\n",
    "bertmodel, vocab = get_pytorch_kobert_model()\n",
    "\n",
    "# cuda device 확인\n",
    "torch.cuda. empty_cache()\n",
    "\n",
    "#GPU 디바이스의 갯수\n",
    "print ('Available devices ', torch.cuda.device_count())\n",
    "#현재 셋업 되어있는 GPU 넘버\n",
    "print ('Current cuda device ', torch.cuda.current_device())\n",
    "#GPU 디바이스의 이름\n",
    "print(torch.cuda.get_device_name(device))"
   ]
  },
  {
   "cell_type": "code",
   "execution_count": 3,
   "id": "fa82f8e7",
   "metadata": {},
   "outputs": [
    {
     "name": "stdout",
     "output_type": "stream",
     "text": [
      "using cached model\n"
     ]
    }
   ],
   "source": [
    "# kobert 입력 데이터로 만들기\n",
    "\n",
    "class BERTDataset(Dataset):\n",
    "    def __init__(self, dataset, sent_idx, label_idx, bert_tokenizer, max_len,\n",
    "                 pad, pair):\n",
    "        transform = nlp.data.BERTSentenceTransform(\n",
    "            bert_tokenizer, max_seq_length=max_len, pad=pad, pair=pair) \n",
    "\n",
    "        self.sentences = [transform([i[sent_idx]]) for i in dataset]\n",
    "        self.labels = [np.int32(i[label_idx]) for i in dataset]\n",
    "\n",
    "    def __getitem__(self, i):\n",
    "        return (self.sentences[i] + (self.labels[i], ))\n",
    "\n",
    "    def __len__(self):\n",
    "        return (len(self.labels))\n",
    "    \n",
    "    \n",
    "# 토큰화\n",
    "# 기본 Bert tokenizer 사용\n",
    "tokenizer = get_tokenizer()\n",
    "tok = nlp.data.BERTSPTokenizer(tokenizer, vocab, lower=False)    \n",
    "    \n",
    "    \n",
    "# Kobert 학습모델 만들기\n",
    "\n",
    "class BERTClassifier(nn.Module):\n",
    "    def __init__(self,\n",
    "                 bert,\n",
    "                 hidden_size = 768,\n",
    "                 num_classes = 2, # softmax 사용 <- binary일 경우는 2\n",
    "                 dr_rate=None,\n",
    "                 params=None):\n",
    "        super(BERTClassifier, self).__init__()\n",
    "        self.bert = bert\n",
    "        self.dr_rate = dr_rate\n",
    "                 \n",
    "        self.classifier = nn.Linear(hidden_size , num_classes)\n",
    "        if dr_rate:\n",
    "            self.dropout = nn.Dropout(p=dr_rate)\n",
    "    \n",
    "    def gen_attention_mask(self, token_ids, valid_length):\n",
    "        attention_mask = torch.zeros_like(token_ids)\n",
    "        for i, v in enumerate(valid_length):\n",
    "            attention_mask[i][:v] = 1\n",
    "        return attention_mask.float()\n",
    "\n",
    "    def forward(self, token_ids, valid_length, segment_ids):\n",
    "        attention_mask = self.gen_attention_mask(token_ids, valid_length)\n",
    "        \n",
    "        _, pooler = self.bert(input_ids = token_ids, token_type_ids = segment_ids.long(), attention_mask = attention_mask.float().to(token_ids.device))\n",
    "        if self.dr_rate:\n",
    "            out = self.dropout(pooler)\n",
    "        return self.classifier(out)\n",
    "      "
   ]
  },
  {
   "cell_type": "code",
   "execution_count": 4,
   "id": "f9904651",
   "metadata": {},
   "outputs": [],
   "source": [
    "# path 설정\n",
    "PATH = '../'"
   ]
  },
  {
   "cell_type": "code",
   "execution_count": 5,
   "id": "b0ce1fa4",
   "metadata": {},
   "outputs": [
    {
     "data": {
      "text/plain": [
       "<All keys matched successfully>"
      ]
     },
     "execution_count": 5,
     "metadata": {},
     "output_type": "execute_result"
    }
   ],
   "source": [
    "model = torch.load(PATH + 'model11.pt')  # 전체 모델을 통째로 불러옴, 클래스 선언 필수\n",
    "model.load_state_dict(torch.load(PATH + 'model_state_dict11.pt'))  # state_dict를 불러 온 후, 모델에 저장\n",
    "\n"
   ]
  },
  {
   "cell_type": "code",
   "execution_count": 6,
   "id": "c8825054",
   "metadata": {},
   "outputs": [],
   "source": [
    "# Setting parameters 파라미터 세팅\n",
    "max_len = 64 # 해당 길이를 초과하는 단어에 대해선 bert가 학습하지 않음\n",
    "batch_size = 64\n",
    "warmup_ratio = 0.1\n",
    "num_epochs = 9 # 훈련 반복횟수\n",
    "max_grad_norm = 1\n",
    "log_interval = 200\n",
    "learning_rate = 5e-5"
   ]
  },
  {
   "cell_type": "code",
   "execution_count": 7,
   "id": "ecf65b35",
   "metadata": {},
   "outputs": [
    {
     "name": "stdout",
     "output_type": "stream",
     "text": [
      "test.shape:(131598, 2)\n"
     ]
    },
    {
     "data": {
      "text/html": [
       "<div>\n",
       "<style scoped>\n",
       "    .dataframe tbody tr th:only-of-type {\n",
       "        vertical-align: middle;\n",
       "    }\n",
       "\n",
       "    .dataframe tbody tr th {\n",
       "        vertical-align: top;\n",
       "    }\n",
       "\n",
       "    .dataframe thead th {\n",
       "        text-align: right;\n",
       "    }\n",
       "</style>\n",
       "<table border=\"1\" class=\"dataframe\">\n",
       "  <thead>\n",
       "    <tr style=\"text-align: right;\">\n",
       "      <th></th>\n",
       "      <th>Unnamed: 0</th>\n",
       "      <th>TitleArticleToken</th>\n",
       "    </tr>\n",
       "  </thead>\n",
       "  <tbody>\n",
       "    <tr>\n",
       "      <th>0</th>\n",
       "      <td>0</td>\n",
       "      <td>라파엘 제약 단계 평가 사전 계획 긍정 중간 효용 분석 발표 로이터 라파엘 홀딩스 ...</td>\n",
       "    </tr>\n",
       "    <tr>\n",
       "      <th>1</th>\n",
       "      <td>1</td>\n",
       "      <td>업데이트 미국 징후 로이터 주식회사 미국 위암 대하 표시 대하 업데이트 종양 발현 ...</td>\n",
       "    </tr>\n",
       "    <tr>\n",
       "      <th>2</th>\n",
       "      <td>2</td>\n",
       "      <td>주식 상장 가격 공개 로이터 주식 상장 달러 주당 달러 가격 대비 공개</td>\n",
       "    </tr>\n",
       "    <tr>\n",
       "      <th>3</th>\n",
       "      <td>3</td>\n",
       "      <td>비철 금속 순이익 증가 예상 로이터 통링 금속 그룹 순이익 위안 전년 동기 대비 증...</td>\n",
       "    </tr>\n",
       "    <tr>\n",
       "      <th>4</th>\n",
       "      <td>4</td>\n",
       "      <td>일자 지분 로이터 현재 지분 보고 주식 매입 저평가 주식 매입</td>\n",
       "    </tr>\n",
       "  </tbody>\n",
       "</table>\n",
       "</div>"
      ],
      "text/plain": [
       "   Unnamed: 0                                  TitleArticleToken\n",
       "0           0  라파엘 제약 단계 평가 사전 계획 긍정 중간 효용 분석 발표 로이터 라파엘 홀딩스 ...\n",
       "1           1  업데이트 미국 징후 로이터 주식회사 미국 위암 대하 표시 대하 업데이트 종양 발현 ...\n",
       "2           2            주식 상장 가격 공개 로이터 주식 상장 달러 주당 달러 가격 대비 공개\n",
       "3           3  비철 금속 순이익 증가 예상 로이터 통링 금속 그룹 순이익 위안 전년 동기 대비 증...\n",
       "4           4                 일자 지분 로이터 현재 지분 보고 주식 매입 저평가 주식 매입"
      ]
     },
     "execution_count": 7,
     "metadata": {},
     "output_type": "execute_result"
    }
   ],
   "source": [
    "test=pd.read_csv(PATH + 'news_sentiment/test77.csv')\n",
    "print(f'test.shape:{test.shape}')\n",
    "test.head()"
   ]
  },
  {
   "cell_type": "code",
   "execution_count": 8,
   "id": "adad9711",
   "metadata": {
    "scrolled": true
   },
   "outputs": [
    {
     "data": {
      "text/html": [
       "<div>\n",
       "<style scoped>\n",
       "    .dataframe tbody tr th:only-of-type {\n",
       "        vertical-align: middle;\n",
       "    }\n",
       "\n",
       "    .dataframe tbody tr th {\n",
       "        vertical-align: top;\n",
       "    }\n",
       "\n",
       "    .dataframe thead th {\n",
       "        text-align: right;\n",
       "    }\n",
       "</style>\n",
       "<table border=\"1\" class=\"dataframe\">\n",
       "  <thead>\n",
       "    <tr style=\"text-align: right;\">\n",
       "      <th></th>\n",
       "      <th>data</th>\n",
       "    </tr>\n",
       "  </thead>\n",
       "  <tbody>\n",
       "    <tr>\n",
       "      <th>0</th>\n",
       "      <td>라파엘 제약 단계 평가 사전 계획 긍정 중간 효용 분석 발표 로이터 라파엘 홀딩스 ...</td>\n",
       "    </tr>\n",
       "    <tr>\n",
       "      <th>1</th>\n",
       "      <td>업데이트 미국 징후 로이터 주식회사 미국 위암 대하 표시 대하 업데이트 종양 발현 ...</td>\n",
       "    </tr>\n",
       "    <tr>\n",
       "      <th>2</th>\n",
       "      <td>주식 상장 가격 공개 로이터 주식 상장 달러 주당 달러 가격 대비 공개</td>\n",
       "    </tr>\n",
       "    <tr>\n",
       "      <th>3</th>\n",
       "      <td>비철 금속 순이익 증가 예상 로이터 통링 금속 그룹 순이익 위안 전년 동기 대비 증...</td>\n",
       "    </tr>\n",
       "    <tr>\n",
       "      <th>4</th>\n",
       "      <td>일자 지분 로이터 현재 지분 보고 주식 매입 저평가 주식 매입</td>\n",
       "    </tr>\n",
       "  </tbody>\n",
       "</table>\n",
       "</div>"
      ],
      "text/plain": [
       "                                                data\n",
       "0  라파엘 제약 단계 평가 사전 계획 긍정 중간 효용 분석 발표 로이터 라파엘 홀딩스 ...\n",
       "1  업데이트 미국 징후 로이터 주식회사 미국 위암 대하 표시 대하 업데이트 종양 발현 ...\n",
       "2            주식 상장 가격 공개 로이터 주식 상장 달러 주당 달러 가격 대비 공개\n",
       "3  비철 금속 순이익 증가 예상 로이터 통링 금속 그룹 순이익 위안 전년 동기 대비 증...\n",
       "4                 일자 지분 로이터 현재 지분 보고 주식 매입 저평가 주식 매입"
      ]
     },
     "execution_count": 8,
     "metadata": {},
     "output_type": "execute_result"
    }
   ],
   "source": [
    "title = list(test['TitleArticleToken'])\n",
    "new_data2 = pd.DataFrame(data=title, columns=['data'])\n",
    "\n",
    "\n",
    "\n",
    "new_data2.head()"
   ]
  },
  {
   "cell_type": "code",
   "execution_count": 9,
   "id": "a37b7036",
   "metadata": {},
   "outputs": [],
   "source": [
    "coment = title\n",
    "n = 0\n",
    "commnetslist = [] # 텍스트 데이터를 담을 리스트\n",
    "emo_list = [] # 감성 값을 담을 리스트\n",
    "for c in coment: # 모든 댓글\n",
    "    commnetslist.append( [c, 5] ) # [댓글, 임의의 양의 정수값] 설정\n",
    "\n",
    "pdData = pd.DataFrame( commnetslist, columns = [['data', 'label']] )\n",
    "pdData = pdData.values"
   ]
  },
  {
   "cell_type": "code",
   "execution_count": 10,
   "id": "40a3ede4",
   "metadata": {},
   "outputs": [
    {
     "data": {
      "text/plain": [
       "131598"
      ]
     },
     "execution_count": 10,
     "metadata": {},
     "output_type": "execute_result"
    }
   ],
   "source": [
    "test_set = BERTDataset(pdData, 0, 1, tok, batch_size, True, False) \n",
    "len(test_set)"
   ]
  },
  {
   "cell_type": "code",
   "execution_count": 11,
   "id": "ee3944dd",
   "metadata": {},
   "outputs": [
    {
     "data": {
      "text/plain": [
       "131598"
      ]
     },
     "execution_count": 11,
     "metadata": {},
     "output_type": "execute_result"
    }
   ],
   "source": [
    "test_input = torch.utils.data.DataLoader(test_set, batch_size=1, num_workers=5)\n",
    "len(test_input)"
   ]
  },
  {
   "cell_type": "code",
   "execution_count": 12,
   "id": "269ee347",
   "metadata": {},
   "outputs": [
    {
     "name": "stderr",
     "output_type": "stream",
     "text": [
      "/anaconda/envs/azureml_py36_pytorch/lib/python3.6/site-packages/ipykernel_launcher.py:1: TqdmDeprecationWarning: This function will be removed in tqdm==5.0.0\n",
      "Please use `tqdm.notebook.tqdm` instead of `tqdm.tqdm_notebook`\n",
      "  \"\"\"Entry point for launching an IPython kernel.\n"
     ]
    },
    {
     "data": {
      "application/vnd.jupyter.widget-view+json": {
       "model_id": "8db4bfe5ceec41b39072b85b6e5839a7",
       "version_major": 2,
       "version_minor": 0
      },
      "text/plain": [
       "  0%|          | 0/131598 [00:00<?, ?it/s]"
      ]
     },
     "metadata": {},
     "output_type": "display_data"
    }
   ],
   "source": [
    "for batch_id, (token_ids, valid_length, segment_ids, label) in enumerate(tqdm_notebook(test_input)):\n",
    "    token_ids = token_ids.long().to(device)\n",
    "    segment_ids = segment_ids.long().to(device)\n",
    "    valid_length= valid_length \n",
    "    # 이때, out이 예측 결과 리스트\n",
    "    out = model(token_ids, valid_length, segment_ids)\n",
    "    # ott = out -> list로 바꿔주고\n",
    "    ott = out.tolist()\n",
    "    emo_list.append(ott[0].index(max(ott[0])))"
   ]
  },
  {
   "cell_type": "code",
   "execution_count": 13,
   "id": "cef6474e",
   "metadata": {},
   "outputs": [
    {
     "data": {
      "text/plain": [
       "131598"
      ]
     },
     "execution_count": 13,
     "metadata": {},
     "output_type": "execute_result"
    }
   ],
   "source": [
    "len(emo_list)"
   ]
  },
  {
   "cell_type": "code",
   "execution_count": 14,
   "id": "ec9a2be7",
   "metadata": {},
   "outputs": [],
   "source": [
    "bert=pd.read_csv(PATH + 'news_sentiment/bert_kospi.csv')"
   ]
  },
  {
   "cell_type": "code",
   "execution_count": 15,
   "id": "04bf9917",
   "metadata": {},
   "outputs": [],
   "source": [
    "bert['senti']=emo_list"
   ]
  },
  {
   "cell_type": "code",
   "execution_count": 16,
   "id": "2474b076",
   "metadata": {},
   "outputs": [
    {
     "data": {
      "text/html": [
       "<div>\n",
       "<style scoped>\n",
       "    .dataframe tbody tr th:only-of-type {\n",
       "        vertical-align: middle;\n",
       "    }\n",
       "\n",
       "    .dataframe tbody tr th {\n",
       "        vertical-align: top;\n",
       "    }\n",
       "\n",
       "    .dataframe thead th {\n",
       "        text-align: right;\n",
       "    }\n",
       "</style>\n",
       "<table border=\"1\" class=\"dataframe\">\n",
       "  <thead>\n",
       "    <tr style=\"text-align: right;\">\n",
       "      <th></th>\n",
       "      <th>Unnamed: 0</th>\n",
       "      <th>TitleArticleToken</th>\n",
       "      <th>label</th>\n",
       "      <th>senti</th>\n",
       "    </tr>\n",
       "  </thead>\n",
       "  <tbody>\n",
       "    <tr>\n",
       "      <th>0</th>\n",
       "      <td>0</td>\n",
       "      <td>라파엘 제약 단계 평가 사전 계획 긍정 중간 효용 분석 발표 로이터 라파엘 홀딩스 ...</td>\n",
       "      <td>173</td>\n",
       "      <td>0</td>\n",
       "    </tr>\n",
       "    <tr>\n",
       "      <th>1</th>\n",
       "      <td>1</td>\n",
       "      <td>업데이트 미국 징후 로이터 주식회사 미국 위암 대하 표시 대하 업데이트 종양 발현 ...</td>\n",
       "      <td>173</td>\n",
       "      <td>1</td>\n",
       "    </tr>\n",
       "    <tr>\n",
       "      <th>2</th>\n",
       "      <td>2</td>\n",
       "      <td>주식 상장 가격 공개 로이터 주식 상장 달러 주당 달러 가격 대비 공개</td>\n",
       "      <td>173</td>\n",
       "      <td>0</td>\n",
       "    </tr>\n",
       "    <tr>\n",
       "      <th>3</th>\n",
       "      <td>3</td>\n",
       "      <td>비철 금속 순이익 증가 예상 로이터 통링 금속 그룹 순이익 위안 전년 동기 대비 증...</td>\n",
       "      <td>150</td>\n",
       "      <td>0</td>\n",
       "    </tr>\n",
       "    <tr>\n",
       "      <th>4</th>\n",
       "      <td>4</td>\n",
       "      <td>일자 지분 로이터 현재 지분 보고 주식 매입 저평가 주식 매입</td>\n",
       "      <td>152</td>\n",
       "      <td>0</td>\n",
       "    </tr>\n",
       "    <tr>\n",
       "      <th>...</th>\n",
       "      <td>...</td>\n",
       "      <td>...</td>\n",
       "      <td>...</td>\n",
       "      <td>...</td>\n",
       "    </tr>\n",
       "    <tr>\n",
       "      <th>131593</th>\n",
       "      <td>131593</td>\n",
       "      <td>다음 이상 찜통 열대야 계속 전국 폭염 뉴시스 다음 전국 대부분 지역 기온 이상 오...</td>\n",
       "      <td>74</td>\n",
       "      <td>0</td>\n",
       "    </tr>\n",
       "    <tr>\n",
       "      <th>131594</th>\n",
       "      <td>131594</td>\n",
       "      <td>올댓차이 중국 타이산 원전 운전 중단 파손 연료봉 교환타이산 최근 방사 물질 유출 ...</td>\n",
       "      <td>112</td>\n",
       "      <td>0</td>\n",
       "    </tr>\n",
       "    <tr>\n",
       "      <th>131595</th>\n",
       "      <td>131595</td>\n",
       "      <td>올댓차이 중국 타이산 원전 운전 중단 파손 연료봉 교환타이산 최근 방사 물질 유출 ...</td>\n",
       "      <td>112</td>\n",
       "      <td>0</td>\n",
       "    </tr>\n",
       "    <tr>\n",
       "      <th>131596</th>\n",
       "      <td>131596</td>\n",
       "      <td>스트레스 고민 말끔히 벨레다 아로마 샤워 시리즈아로마 샤워 에너지 하모니 릴렉스 러...</td>\n",
       "      <td>142</td>\n",
       "      <td>1</td>\n",
       "    </tr>\n",
       "    <tr>\n",
       "      <th>131597</th>\n",
       "      <td>131597</td>\n",
       "      <td>스트레스 고민 말끔히 벨레다 아로마 샤워 시리즈아로마 샤워 에너지 하모니 릴렉스 러...</td>\n",
       "      <td>142</td>\n",
       "      <td>1</td>\n",
       "    </tr>\n",
       "  </tbody>\n",
       "</table>\n",
       "<p>131598 rows × 4 columns</p>\n",
       "</div>"
      ],
      "text/plain": [
       "        Unnamed: 0                                  TitleArticleToken  label  \\\n",
       "0                0  라파엘 제약 단계 평가 사전 계획 긍정 중간 효용 분석 발표 로이터 라파엘 홀딩스 ...    173   \n",
       "1                1  업데이트 미국 징후 로이터 주식회사 미국 위암 대하 표시 대하 업데이트 종양 발현 ...    173   \n",
       "2                2            주식 상장 가격 공개 로이터 주식 상장 달러 주당 달러 가격 대비 공개    173   \n",
       "3                3  비철 금속 순이익 증가 예상 로이터 통링 금속 그룹 순이익 위안 전년 동기 대비 증...    150   \n",
       "4                4                 일자 지분 로이터 현재 지분 보고 주식 매입 저평가 주식 매입    152   \n",
       "...            ...                                                ...    ...   \n",
       "131593      131593  다음 이상 찜통 열대야 계속 전국 폭염 뉴시스 다음 전국 대부분 지역 기온 이상 오...     74   \n",
       "131594      131594  올댓차이 중국 타이산 원전 운전 중단 파손 연료봉 교환타이산 최근 방사 물질 유출 ...    112   \n",
       "131595      131595  올댓차이 중국 타이산 원전 운전 중단 파손 연료봉 교환타이산 최근 방사 물질 유출 ...    112   \n",
       "131596      131596  스트레스 고민 말끔히 벨레다 아로마 샤워 시리즈아로마 샤워 에너지 하모니 릴렉스 러...    142   \n",
       "131597      131597  스트레스 고민 말끔히 벨레다 아로마 샤워 시리즈아로마 샤워 에너지 하모니 릴렉스 러...    142   \n",
       "\n",
       "        senti  \n",
       "0           0  \n",
       "1           1  \n",
       "2           0  \n",
       "3           0  \n",
       "4           0  \n",
       "...       ...  \n",
       "131593      0  \n",
       "131594      0  \n",
       "131595      0  \n",
       "131596      1  \n",
       "131597      1  \n",
       "\n",
       "[131598 rows x 4 columns]"
      ]
     },
     "execution_count": 16,
     "metadata": {},
     "output_type": "execute_result"
    }
   ],
   "source": [
    "bert"
   ]
  },
  {
   "cell_type": "code",
   "execution_count": 17,
   "id": "fef034ff",
   "metadata": {},
   "outputs": [],
   "source": [
    "bert.to_csv('bert_result.csv', index=False)"
   ]
  },
  {
   "cell_type": "code",
   "execution_count": 8,
   "id": "32760489",
   "metadata": {},
   "outputs": [],
   "source": [
    "# 감성값 예측하는 함수 만들기\n",
    "\n",
    "import pandas as pd\n",
    "\n",
    "# 위에서 설정한 tok, max_len, batch_size, device를 그대로 입력\n",
    "# comment : 예측하고자 하는 텍스트 데이터 리스트\n",
    "def getSentimentValue(comment, tok, max_len, batch_size, device):\n",
    "    commnetslist = [] # 텍스트 데이터를 담을 리스트\n",
    "    emo_list = [] # 감성 값을 담을 리스트\n",
    "    for c in comment: # 모든 댓글\n",
    "        commnetslist.append( [c, 5] ) # [댓글, 임의의 양의 정수값] 설정\n",
    "\n",
    "    pdData = pd.DataFrame( commnetslist, columns = [['뉴스', '감성']] )\n",
    "    pdData = pdData.values\n",
    "    test_set = BERTDataset(pdData, 0, 1, tok, max_len, True, False) \n",
    "    test_input = torch.utils.data.DataLoader(test_set, batch_size=batch_size, num_workers=5)\n",
    "\n",
    "    for batch_id, (token_ids, valid_length, segment_ids, label) in enumerate(test_input):\n",
    "        token_ids = token_ids.long().to(device)\n",
    "        segment_ids = segment_ids.long().to(device)\n",
    "        valid_length= valid_length \n",
    "        # 이때, out이 예측 결과 리스트\n",
    "        \n",
    "        out = model(token_ids, valid_length, segment_ids)\n",
    "        print(out)\n",
    "        # e는 2가지 실수 값으로 구성된 리스트\n",
    "        # 0번 인덱스가 더 크면 부정, 긍정은 반대\n",
    "        for e in out:\n",
    "            if e[0]>e[1]: # 부정\n",
    "                value = 0\n",
    "                emo_list.append(\"부정\")\n",
    "                print('부정')\n",
    "            else: #긍정\n",
    "                value = 1\n",
    "                emo_list.append(\"긍정\")\n",
    "                print('긍정')\n",
    "                \n",
    "\n",
    "    return emo_list # 텍스트 데이터에 1대1 매칭되는 감성값 리스트 반환\n",
    "\n",
    "# input : 텍스트 데이터 리스트 외 KoBERT 설정 파라미터들\n",
    "# output : 입력한 텍스트 데이터 리스트와 1대 1 매칭 되는 감성 값 리스트"
   ]
  },
  {
   "cell_type": "code",
   "execution_count": 10,
   "id": "cb309e48",
   "metadata": {},
   "outputs": [
    {
     "name": "stdout",
     "output_type": "stream",
     "text": [
      "원하는 기사를 입력하세요\n",
      "\n",
      "특히 이베스트투자증권은 목표주가를 기존 131만원에서 93만9000원으로 내리고 투자의견도 '매수'에서 '홀드(중립)'로 하향 조정해 눈길을 끌었다. 이베스트투자증권은 지주사 할인율 30%를 적용했다.  이안나 이베스트투자증권 연구원은 \"하반기 주도 섹터로 EV(전기자동차) 배터리를 주목하지만 LG에너지솔루션 상장 시기가 다가오고 있으며 SK이노베이션 물적분할 가능성까지 고려할때 배터리 셀 기업 주가는 당분간 지지부진할 것으로 예상된다\"고 했다.  앞서 5월 글로벌 투자은행 크레디트스위스(CS)도 LG에너지솔루션 IPO를 언급하면서 LG화학에 대한 투자 의견을 아웃퍼폼(시장 수익률 상회)→언더퍼폼(시장 수익률 하회), 목표 주가를 130만→68만 원으로 47.7% 낮춘 바 있다.  실제 LG화학 주가는 지난 5월 이후 80만원대 초반선에서 크게 벗어나지 못하고 있다. 시가총액도 58조원 내외에 갇혀있다.  하지만 중장기적인 관점에서 반등 여지도 분명히 있다고 본다. 전창현 IBK투자증권 연구원은 \"최근 높은 업황 기대감에도 불구하고 부진한 주가를 시형했지만 상장(9~11월)을 기점으로 예고된 불확실성이 해소되며 배터리 사업부의 적정가치를 재평가받을 수 있다\"고 했다.  또 전날 LG화학이 LG전자 분리막 코팅사업을 5250억원에 양수한다고 공시한 것에 대한 평가가 긍정적이다. 전유진 하이투자증권 연구원은 \"양극재/분리막 등 주요 소재에 대해 LG화학 첨단소재부문이 개발-생산 전 과정을 통합 및 전담해 경쟁력을 강화하겠다는 뜻으로 해석된다\"고 했다.  전 연구원은 \"향후 전지소재쪽으로 성장 발판을 본격적으로 확보하려는 움직임이 이미 시작된 것으로 신규 동력원이 부재하다는 시장 우려가 과도한 기우임을 보여줬다\"고 평가했다.\n",
      "\n",
      "기사 : 특히 이베스트투자증권은 목표주가를 기존 131만원에서 93만9000원으로 내리고 투자의견도 '매수'에서 '홀드(중립)'로 하향 조정해 눈길을 끌었다. 이베스트투자증권은 지주사 할인율 30%를 적용했다.  이안나 이베스트투자증권 연구원은 \"하반기 주도 섹터로 EV(전기자동차) 배터리를 주목하지만 LG에너지솔루션 상장 시기가 다가오고 있으며 SK이노베이션 물적분할 가능성까지 고려할때 배터리 셀 기업 주가는 당분간 지지부진할 것으로 예상된다\"고 했다.  앞서 5월 글로벌 투자은행 크레디트스위스(CS)도 LG에너지솔루션 IPO를 언급하면서 LG화학에 대한 투자 의견을 아웃퍼폼(시장 수익률 상회)→언더퍼폼(시장 수익률 하회), 목표 주가를 130만→68만 원으로 47.7% 낮춘 바 있다.  실제 LG화학 주가는 지난 5월 이후 80만원대 초반선에서 크게 벗어나지 못하고 있다. 시가총액도 58조원 내외에 갇혀있다.  하지만 중장기적인 관점에서 반등 여지도 분명히 있다고 본다. 전창현 IBK투자증권 연구원은 \"최근 높은 업황 기대감에도 불구하고 부진한 주가를 시형했지만 상장(9~11월)을 기점으로 예고된 불확실성이 해소되며 배터리 사업부의 적정가치를 재평가받을 수 있다\"고 했다.  또 전날 LG화학이 LG전자 분리막 코팅사업을 5250억원에 양수한다고 공시한 것에 대한 평가가 긍정적이다. 전유진 하이투자증권 연구원은 \"양극재/분리막 등 주요 소재에 대해 LG화학 첨단소재부문이 개발-생산 전 과정을 통합 및 전담해 경쟁력을 강화하겠다는 뜻으로 해석된다\"고 했다.  전 연구원은 \"향후 전지소재쪽으로 성장 발판을 본격적으로 확보하려는 움직임이 이미 시작된 것으로 신규 동력원이 부재하다는 시장 우려가 과도한 기우임을 보여줬다\"고 평가했다.\n",
      "\n",
      "tensor([[ 1.7277, -1.4372]], device='cuda:0', grad_fn=<AddmmBackward>)\n",
      "부정\n"
     ]
    },
    {
     "data": {
      "text/plain": [
       "['부정']"
      ]
     },
     "execution_count": 10,
     "metadata": {},
     "output_type": "execute_result"
    }
   ],
   "source": [
    "# 뉴스기사 테스트 함수\n",
    "def news():\n",
    "    \n",
    "    comment = []\n",
    "    comment.append(input(\"원하는 기사를 입력하세요\\n\\n\"))\n",
    "\n",
    "    for c in comment:\n",
    "        print(f'\\n기사 : {c}\\n')\n",
    "        \n",
    "    return getSentimentValue(comment, tok, max_len, batch_size, device)\n",
    "\n",
    "news()"
   ]
  },
  {
   "cell_type": "code",
   "execution_count": null,
   "id": "4844a596",
   "metadata": {},
   "outputs": [],
   "source": []
  }
 ],
 "metadata": {
  "kernelspec": {
   "display_name": "azureml_py36_pytorch",
   "language": "python",
   "name": "conda-env-azureml_py36_pytorch-py"
  },
  "language_info": {
   "codemirror_mode": {
    "name": "ipython",
    "version": 3
   },
   "file_extension": ".py",
   "mimetype": "text/x-python",
   "name": "python",
   "nbconvert_exporter": "python",
   "pygments_lexer": "ipython3",
   "version": "3.6.12"
  }
 },
 "nbformat": 4,
 "nbformat_minor": 5
}
